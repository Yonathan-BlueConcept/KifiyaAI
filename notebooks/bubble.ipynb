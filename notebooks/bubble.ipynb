{
 "cells": [
  {
   "cell_type": "code",
   "execution_count": null,
   "metadata": {},
   "outputs": [],
   "source": [
    "from utils.bubble_chart import plot_bubble_chart\n",
    "from utils.consts import sierraleone_file_path, benin_file_path, togo_file_path\n",
    "import pandas as pd"
   ]
  },
  {
   "cell_type": "code",
   "execution_count": null,
   "metadata": {},
   "outputs": [],
   "source": [
    "print(\"Sierraleone\")\n",
    "\n",
    "df = pd.read_csv(sierraleone_file_path)\n",
    "plot_bubble_chart(df, 'GHI', 'Tamb', 'RH', 'BP', xlabel='Global Horizontal Irradiance (GHI)', ylabel='Temperature (Tamb)', title='GHI vs. Tamb vs. WS with Bubble Size Representing RH')"
   ]
  },
  {
   "cell_type": "code",
   "execution_count": null,
   "metadata": {},
   "outputs": [],
   "source": [
    "print(\"Benin\")\n",
    "\n",
    "df = pd.read_csv(benin_file_path)\n",
    "plot_bubble_chart(df, 'GHI', 'Tamb', 'RH', 'BP', xlabel='Global Horizontal Irradiance (GHI)', ylabel='Temperature (Tamb)', title='GHI vs. Tamb vs. WS with Bubble Size Representing RH')"
   ]
  },
  {
   "cell_type": "code",
   "execution_count": null,
   "metadata": {},
   "outputs": [],
   "source": [
    "print(\"Togo\")\n",
    "\n",
    "df = pd.read_csv(togo_file_path)\n",
    "plot_bubble_chart(df, 'GHI', 'Tamb', 'RH', 'BP', xlabel='Global Horizontal Irradiance (GHI)', ylabel='Temperature (Tamb)', title='GHI vs. Tamb vs. WS with Bubble Size Representing RH')"
   ]
  }
 ],
 "metadata": {
  "kernelspec": {
   "display_name": "Python 3",
   "language": "python",
   "name": "python3"
  },
  "language_info": {
   "codemirror_mode": {
    "name": "ipython",
    "version": 3
   },
   "file_extension": ".py",
   "mimetype": "text/x-python",
   "name": "python",
   "nbconvert_exporter": "python",
   "pygments_lexer": "ipython3",
   "version": "3.11.0"
  }
 },
 "nbformat": 4,
 "nbformat_minor": 2
}
