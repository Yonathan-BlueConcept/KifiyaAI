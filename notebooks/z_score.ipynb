{
 "cells": [
  {
   "cell_type": "code",
   "execution_count": null,
   "metadata": {},
   "outputs": [],
   "source": [
    "from utils.consts import benin_file_path,togo_file_path,sierraleone_file_path\n",
    "from utils.z_score_analysis import calculate_z_scores\n",
    "import pandas as pd"
   ]
  },
  {
   "cell_type": "code",
   "execution_count": null,
   "metadata": {},
   "outputs": [],
   "source": [
    "print(\"Sierraleon\") \n",
    "\n",
    "# Load the DataFrame\n",
    "df = pd.read_csv(sierraleone_file_path)\n",
    "\n",
    "\n",
    "columns_to_analyze = ['GHI', 'DNI', 'DHI', 'WS', 'TModA', 'TModB']\n",
    "z_scores_df = calculate_z_scores(df, columns_to_analyze)\n",
    "\n",
    "# To flag data points significantly different from the mean:\n",
    "threshold = 3 \n",
    "# Typically, a Z-score > 3 or < -3 is considered significant\n",
    "flagged_points = (z_scores_df.abs() > threshold)\n",
    "significant_data = df[flagged_points.any(axis=1)]\n",
    "print(significant_data)"
   ]
  },
  {
   "cell_type": "code",
   "execution_count": null,
   "metadata": {},
   "outputs": [],
   "source": [
    "print(\"Benin\")\n",
    " # Load the DataFrame\n",
    "df = pd.read_csv(benin_file_path)\n",
    "\n",
    "\n",
    "columns_to_analyze = ['GHI', 'DNI', 'DHI', 'WS', 'TModA', 'TModB']\n",
    "z_scores_df = calculate_z_scores(df, columns_to_analyze)\n",
    "\n",
    "# To flag data points significantly different from the mean:\n",
    "threshold = 3 \n",
    "# Typically, a Z-score > 3 or < -3 is considered significant\n",
    "flagged_points = (z_scores_df.abs() > threshold)\n",
    "significant_data = df[flagged_points.any(axis=1)]\n",
    "print(significant_data)"
   ]
  },
  {
   "cell_type": "code",
   "execution_count": null,
   "metadata": {},
   "outputs": [],
   "source": [
    "print(\"Togo\")\n",
    "\n",
    "# Load the DataFrame\n",
    "df = pd.read_csv(togo_file_path)\n",
    "\n",
    "columns_to_analyze = ['GHI', 'DNI', 'DHI', 'WS', 'TModA', 'TModB']\n",
    "z_scores_df = calculate_z_scores(df, columns_to_analyze)\n",
    "\n",
    "# To flag data points significantly different from the mean:\n",
    "threshold = 3 \n",
    "# Typically, a Z-score > 3 or < -3 is considered significant\n",
    "flagged_points = (z_scores_df.abs() > threshold)\n",
    "significant_data = df[flagged_points.any(axis=1)]\n",
    "print(significant_data)"
   ]
  }
 ],
 "metadata": {
  "kernelspec": {
   "display_name": "Python 3",
   "language": "python",
   "name": "python3"
  },
  "language_info": {
   "codemirror_mode": {
    "name": "ipython",
    "version": 3
   },
   "file_extension": ".py",
   "mimetype": "text/x-python",
   "name": "python",
   "nbconvert_exporter": "python",
   "pygments_lexer": "ipython3",
   "version": "3.11.0"
  }
 },
 "nbformat": 4,
 "nbformat_minor": 2
}
