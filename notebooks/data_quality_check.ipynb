{
 "cells": [
  {
   "cell_type": "code",
   "execution_count": null,
   "metadata": {},
   "outputs": [],
   "source": [
    "from utils.clean_negative_values import cleanData\n",
    "from utils.remove_outliers import removeOutliers\n",
    "from utils.consts import sierraleone_file_path, benin_file_path, togo_file_path"
   ]
  },
  {
   "cell_type": "code",
   "execution_count": null,
   "metadata": {},
   "outputs": [],
   "source": [
    "print(\"Time Series For Sieraleon\")\n",
    "\n",
    "# clearning Negative values in the coulumns GHI, DNI, and DHI for Sierraleaone\n",
    "\n",
    "cleaned = cleanData(sierraleone_file_path)\n",
    "\n",
    "# clearning Outliers for Sierraleaone\n",
    "\n",
    "columns = [\"ModA\",\"ModB\",\"WS\",\"WSgust\"]\n",
    "\n",
    "removeOutliers(columns,cleaned)"
   ]
  },
  {
   "cell_type": "code",
   "execution_count": null,
   "metadata": {},
   "outputs": [],
   "source": [
    "print(\"Time Series For Benin\")\n",
    "\n",
    "# clearning Negative values in the coulumns GHI, DNI, and DHI for Benin\n",
    "\n",
    "cleaned = cleanData(benin_file_path)\n",
    "\n",
    "# clearning Outliers for Sierraleaone\n",
    "\n",
    "columns = [\"ModA\",\"ModB\",\"WS\",\"WSgust\"]\n",
    "\n",
    "removeOutliers(columns,cleaned)"
   ]
  },
  {
   "cell_type": "code",
   "execution_count": null,
   "metadata": {},
   "outputs": [],
   "source": [
    "print(\"Time Series For Togo\")\n",
    "\n",
    "# clearning Negative values in the coulumns GHI, DNI, and DHI for Togo\n",
    "\n",
    "cleaned = cleanData(togo_file_path)\n",
    "\n",
    "# clearning Outliers for Togo\n",
    "\n",
    "columns = [\"ModA\",\"ModB\",\"WS\",\"WSgust\"]\n",
    "\n",
    "removeOutliers(columns,cleaned)"
   ]
  },
  {
   "cell_type": "code",
   "execution_count": null,
   "metadata": {},
   "outputs": [],
   "source": []
  },
  {
   "cell_type": "code",
   "execution_count": null,
   "metadata": {},
   "outputs": [],
   "source": []
  }
 ],
 "metadata": {
  "kernelspec": {
   "display_name": "Python 3",
   "language": "python",
   "name": "python3"
  },
  "language_info": {
   "codemirror_mode": {
    "name": "ipython",
    "version": 3
   },
   "file_extension": ".py",
   "mimetype": "text/x-python",
   "name": "python",
   "nbconvert_exporter": "python",
   "pygments_lexer": "ipython3",
   "version": "3.11.0"
  }
 },
 "nbformat": 4,
 "nbformat_minor": 2
}
