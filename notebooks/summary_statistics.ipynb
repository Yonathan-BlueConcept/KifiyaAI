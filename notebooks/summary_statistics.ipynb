{
 "cells": [
  {
   "cell_type": "code",
   "execution_count": null,
   "metadata": {},
   "outputs": [],
   "source": [
    "from utils.data_processing import getSummaryStatistics\n",
    "\n",
    "file_path = \"C:\\\\Users\\\\ACER\\\\Downloads\\\\data\\\\data\\\\benin-malanville.csv\"\n",
    "\n",
    "\n",
    "benin_stats = getSummaryStatistics(file_path)\n",
    "print(benin_stats)"
   ]
  },
  {
   "cell_type": "code",
   "execution_count": null,
   "metadata": {},
   "outputs": [],
   "source": [
    "file_path = \"C:\\\\Users\\\\ACER\\\\Downloads\\\\data\\\\data\\\\sierraleone-bumbuna.csv\"\n",
    "\n",
    "\n",
    "sierraleon_stats = getSummaryStatistics(file_path)\n",
    "print(sierraleon_stats)"
   ]
  },
  {
   "cell_type": "code",
   "execution_count": null,
   "metadata": {},
   "outputs": [],
   "source": [
    "file_path = \"C:\\\\Users\\\\ACER\\\\Downloads\\\\data\\\\data\\\\togo-dapaong_qc.csv\"\n",
    "\n",
    "\n",
    "togo_stats = getSummaryStatistics(file_path)\n",
    "print(togo_stats)"
   ]
  }
 ],
 "metadata": {
  "kernelspec": {
   "display_name": "Python 3",
   "language": "python",
   "name": "python3"
  },
  "language_info": {
   "codemirror_mode": {
    "name": "ipython",
    "version": 3
   },
   "file_extension": ".py",
   "mimetype": "text/x-python",
   "name": "python",
   "nbconvert_exporter": "python",
   "pygments_lexer": "ipython3",
   "version": "3.11.0"
  }
 },
 "nbformat": 4,
 "nbformat_minor": 2
}
